{
 "cells": [
  {
   "cell_type": "code",
   "execution_count": 16,
   "id": "c9b48541",
   "metadata": {
    "scrolled": true
   },
   "outputs": [],
   "source": [
    "import tensorflow as tf\n",
    "import numpy as np\n",
    "from PIL import ImageFile, Image\n",
    "ImageFile.LOAD_TRUNCATED_IMAGES = True\n",
    "from matplotlib import pyplot as plt\n",
    "import serial\n",
    "import serial.tools.list_ports\n",
    "import time\n",
    "import io\n",
    "from IPython.display import clear_output"
   ]
  },
  {
   "cell_type": "code",
   "execution_count": 17,
   "id": "1110b8a1",
   "metadata": {
    "scrolled": true
   },
   "outputs": [],
   "source": [
    "def _ssd_generate_anchors() -> np.ndarray:\n",
    "    \"\"\"\n",
    "    (reference: mediapipe/calculators/tflite/ssd_anchors_calculator.cc)\n",
    "    \"\"\"\n",
    "    layer_id = 0\n",
    "    num_layers = 4\n",
    "    strides = [8, 16, 16, 16]\n",
    "    assert len(strides) == num_layers\n",
    "    input_height = 128\n",
    "    input_width = 128\n",
    "    anchor_offset_x = 0.5\n",
    "    anchor_offset_y = 0.5\n",
    "    interpolated_scale_aspect_ratio = 1\n",
    "    anchors = []\n",
    "    while layer_id < num_layers:\n",
    "        last_same_stride_layer = layer_id\n",
    "        repeats = 0\n",
    "        while (last_same_stride_layer < num_layers and\n",
    "               strides[last_same_stride_layer] == strides[layer_id]):\n",
    "            last_same_stride_layer += 1\n",
    "            # aspect_ratios are added twice per iteration\n",
    "            repeats += 2 if interpolated_scale_aspect_ratio == 1.0 else 1\n",
    "        stride = strides[layer_id]\n",
    "        feature_map_height = input_height // stride\n",
    "        feature_map_width = input_width // stride\n",
    "        for y in range(feature_map_height):\n",
    "            y_center = (y + anchor_offset_y) / feature_map_height\n",
    "            for x in range(feature_map_width):\n",
    "                x_center = (x + anchor_offset_x) / feature_map_width\n",
    "                for _ in range(repeats):\n",
    "                    anchors.append((x_center, y_center))\n",
    "        layer_id = last_same_stride_layer\n",
    "    return np.array(anchors, dtype=np.float32)\n",
    "anchors = _ssd_generate_anchors()"
   ]
  },
  {
   "cell_type": "code",
   "execution_count": 4,
   "id": "01a0a208",
   "metadata": {
    "scrolled": true
   },
   "outputs": [],
   "source": [
    "def processImage(image):\n",
    "    original_h = image.shape[0]\n",
    "    original_w = image.shape[1]\n",
    "    \n",
    "    # RUN FACE DETECT MODEL\n",
    "    resized_image = np.reshape(tf.image.resize(image, [128,128]) / 255,[1,128,128,3])\n",
    "    interpreter = tf.lite.Interpreter(model_path=\"models/face_detection_front.tflite\")\n",
    "    interpreter.allocate_tensors()\n",
    "    input_details = interpreter.get_input_details()\n",
    "    output_details = interpreter.get_output_details()\n",
    "    interpreter.set_tensor(input_details[0]['index'], resized_image)\n",
    "    interpreter.invoke()\n",
    "    raw_boxes = interpreter.get_tensor(output_details[0]['index'])\n",
    "    raw_scores = interpreter.get_tensor(output_details[1]['index'])\n",
    "\n",
    "    # GET HIGHEST SCORE\n",
    "    raw_scores[raw_scores < -80] = -80\n",
    "    raw_scores[raw_scores > 80] = 80\n",
    "    sigmoid_scores = 1.0 / (1.0 + np.exp(-raw_scores))\n",
    "    best_score = np.max(sigmoid_scores)\n",
    "    if best_score < 0.8:\n",
    "        return 0\n",
    "    best_index = np.argmax(sigmoid_scores)\n",
    "    \n",
    "    \n",
    "    # DECODE BOX\n",
    "    scale = 128\n",
    "    num_points = 8\n",
    "    # scale all values (applies to positions, width, and height alike)\n",
    "    face_box_center = raw_boxes[0, best_index, 0:2] / scale\n",
    "    face_box_wh = raw_boxes[0, best_index, 2:4] / scale\n",
    "    # adjust center coordinates to anchor positions\n",
    "    face_box_center += anchors[best_index]\n",
    "    # convert x_center, y_center, w, h to xmin, ymin, xmax, ymax\n",
    "    center = np.array(face_box_center)\n",
    "    half_size = face_box_wh / 2\n",
    "    [xmin, ymin] = center - half_size\n",
    "    [xmax, ymax] = center + half_size\n",
    "    # only full faces in frame\n",
    "    if (xmin<0): return 0\n",
    "    if (xmax>original_w): return 0\n",
    "    if (ymin<0): return 0\n",
    "    if (ymax>original_h): return 0\n",
    "\n",
    "    # EXTRACT FACE\n",
    "    face = image[int(ymin*original_h):int(ymax*original_h), int(xmin*original_h):int(xmax*original_h),:]\n",
    "\n",
    "    # MOBILENET INTERPRETER\n",
    "    resized_face_uint8 = np.reshape(tf.image.resize(face, [192,192]),[1,192,192,3]).astype('uint8')\n",
    "    interpreter = tf.lite.Interpreter(model_path=\"models/mobilenet_v1_0.25_192_quant.tflite\")\n",
    "    interpreter.allocate_tensors()\n",
    "    input_details = interpreter.get_input_details()\n",
    "    output_details = interpreter.get_output_details()\n",
    "    interpreter.set_tensor(input_details[0]['index'], resized_face_uint8)\n",
    "    interpreter.invoke()\n",
    "    logits = interpreter.get_tensor(output_details[0]['index'])\n",
    "    return logits[0]"
   ]
  },
  {
   "cell_type": "code",
   "execution_count": 14,
   "id": "2c6d35c8",
   "metadata": {
    "scrolled": true
   },
   "outputs": [],
   "source": [
    "# ARDUINO SERIAL\n",
    "FACE_DETECTED = 0\n",
    "FACE_NOT_DETECTED = 1\n",
    "\n",
    "\n",
    "def find_arduino(port=None):\n",
    "    \"\"\"Get the name of the port that is connected to Arduino.\"\"\"\n",
    "    if port is None:\n",
    "        ports = serial.tools.list_ports.comports()\n",
    "        for p in ports:\n",
    "            if p.manufacturer is not None and \"Arduino\" in p.manufacturer:\n",
    "                port = p.device\n",
    "    return port\n",
    "\n",
    "    \n",
    "def image_stream(arduino):\n",
    "    buffer_size = 1000;\n",
    "\n",
    "    # Receive Chunks\n",
    "    length = 0\n",
    "    while arduino.inWaiting() == 0:\n",
    "        pass\n",
    "    length = int(arduino.read_until().decode())\n",
    "    \n",
    "    # Stream Chunks\n",
    "    image_bytes = bytearray()\n",
    "    chunks = length // 1000\n",
    "    x = 0\n",
    "    while x < chunks:\n",
    "        while arduino.inWaiting() < 1000:\n",
    "            pass\n",
    "        image_bytes.extend(arduino.read(1000))\n",
    "        x+=1\n",
    "    while arduino.inWaiting() < length%1000:\n",
    "        pass\n",
    "    image_bytes.extend(arduino.read(length % 1000))\n",
    "    image_PIL = Image.open(io.BytesIO(image_bytes))\n",
    "    \n",
    "    # Square off the image\n",
    "    width, height = image_PIL.size   # Get dimensions\n",
    "    left = (width - height)/2\n",
    "    top = (height - height)/2\n",
    "    right = (width + height)/2\n",
    "    bottom = (height + height)/2\n",
    "\n",
    "    image = image_PIL.crop((left, top, right, bottom))\n",
    "    image = np.array(image)\n",
    "    \n",
    "    # Turn off the stream\n",
    "    return image\n"
   ]
  },
  {
   "cell_type": "code",
   "execution_count": 63,
   "id": "5e98c713",
   "metadata": {
    "scrolled": true
   },
   "outputs": [
    {
     "ename": "OSError",
     "evalue": "[Errno 5] Input/output error",
     "output_type": "error",
     "traceback": [
      "\u001b[0;31m---------------------------------------------------------------------------\u001b[0m",
      "\u001b[0;31mOSError\u001b[0m                                   Traceback (most recent call last)",
      "Input \u001b[0;32mIn [63]\u001b[0m, in \u001b[0;36m<cell line: 8>\u001b[0;34m()\u001b[0m\n\u001b[1;32m      7\u001b[0m \u001b[38;5;66;03m# SERIAL INTERFACE\u001b[39;00m\n\u001b[1;32m      8\u001b[0m \u001b[38;5;28;01mwhile\u001b[39;00m \u001b[38;5;28;01mTrue\u001b[39;00m:\n\u001b[0;32m----> 9\u001b[0m     \u001b[38;5;28;01mwhile\u001b[39;00m \u001b[43marduino\u001b[49m\u001b[38;5;241;43m.\u001b[39;49m\u001b[43minWaiting\u001b[49m\u001b[43m(\u001b[49m\u001b[43m)\u001b[49m \u001b[38;5;241m==\u001b[39m \u001b[38;5;241m0\u001b[39m:\n\u001b[1;32m     10\u001b[0m         \u001b[38;5;28;01mpass\u001b[39;00m\n\u001b[1;32m     11\u001b[0m     msg \u001b[38;5;241m=\u001b[39m arduino\u001b[38;5;241m.\u001b[39mread_until()\u001b[38;5;241m.\u001b[39mdecode()\u001b[38;5;241m.\u001b[39mrstrip()\n",
      "File \u001b[0;32m~/miniconda3/envs/TF/lib/python3.10/site-packages/serial/serialutil.py:594\u001b[0m, in \u001b[0;36mSerialBase.inWaiting\u001b[0;34m(self)\u001b[0m\n\u001b[1;32m    593\u001b[0m \u001b[38;5;28;01mdef\u001b[39;00m \u001b[38;5;21minWaiting\u001b[39m(\u001b[38;5;28mself\u001b[39m):\n\u001b[0;32m--> 594\u001b[0m     \u001b[38;5;28;01mreturn\u001b[39;00m \u001b[38;5;28;43mself\u001b[39;49m\u001b[38;5;241;43m.\u001b[39;49m\u001b[43min_waiting\u001b[49m\n",
      "File \u001b[0;32m~/miniconda3/envs/TF/lib/python3.10/site-packages/serial/serialposix.py:549\u001b[0m, in \u001b[0;36mSerial.in_waiting\u001b[0;34m(self)\u001b[0m\n\u001b[1;32m    547\u001b[0m \u001b[38;5;124;03m\"\"\"Return the number of bytes currently in the input buffer.\"\"\"\u001b[39;00m\n\u001b[1;32m    548\u001b[0m \u001b[38;5;66;03m#~ s = fcntl.ioctl(self.fd, termios.FIONREAD, TIOCM_zero_str)\u001b[39;00m\n\u001b[0;32m--> 549\u001b[0m s \u001b[38;5;241m=\u001b[39m \u001b[43mfcntl\u001b[49m\u001b[38;5;241;43m.\u001b[39;49m\u001b[43mioctl\u001b[49m\u001b[43m(\u001b[49m\u001b[38;5;28;43mself\u001b[39;49m\u001b[38;5;241;43m.\u001b[39;49m\u001b[43mfd\u001b[49m\u001b[43m,\u001b[49m\u001b[43m \u001b[49m\u001b[43mTIOCINQ\u001b[49m\u001b[43m,\u001b[49m\u001b[43m \u001b[49m\u001b[43mTIOCM_zero_str\u001b[49m\u001b[43m)\u001b[49m\n\u001b[1;32m    550\u001b[0m \u001b[38;5;28;01mreturn\u001b[39;00m struct\u001b[38;5;241m.\u001b[39munpack(\u001b[38;5;124m'\u001b[39m\u001b[38;5;124mI\u001b[39m\u001b[38;5;124m'\u001b[39m, s)[\u001b[38;5;241m0\u001b[39m]\n",
      "\u001b[0;31mOSError\u001b[0m: [Errno 5] Input/output error"
     ]
    }
   ],
   "source": [
    "# ESTABLISH COMMUNICATION\n",
    "port = find_arduino()\n",
    "arduino = serial.Serial(port, baudrate=500000)\n",
    "_ = arduino.read_all()\n",
    "\n",
    "\n",
    "# SERIAL INTERFACE\n",
    "while True:\n",
    "    while arduino.inWaiting() == 0:\n",
    "        pass\n",
    "    msg = arduino.read_until().decode().rstrip()\n",
    "    print(msg)\n",
    "    \n",
    "    if (msg == \"CMD: STREAM IMAGE\"):\n",
    "        image = image_stream(arduino)\n",
    "        logits = processImage(image)\n",
    "        if type(logits) == np.ndarray:\n",
    "            arduino.write(bytes([FACE_DETECTED]))\n",
    "        else:\n",
    "            arduino.write(bytes([FACE_NOT_DETECTED]))\n",
    "    \n",
    "    if (msg == \"CMD: STREAM LOGITS\"):\n",
    "        arduino.write(bytes(logits))\n",
    "    \n",
    "    if (msg == \"NANO-> CV COMPLETE\"):\n",
    "        clear_output(wait=True)"
   ]
  },
  {
   "cell_type": "code",
   "execution_count": 52,
   "id": "427f8ca0",
   "metadata": {},
   "outputs": [
    {
     "data": {
      "text/plain": [
       "b'\\xff\\xd8\\xff\\xe0\\x00\\x10JFIF\\x00\\x01\\x01\\x01\\x00\\x00\\x00\\x00\\x00\\x00\\xff\\xdb\\x00C\\x00\\x0c\\x08\\t\\x0b\\t\\x08\\x0c\\x0b\\n\\x0b\\x0e\\r\\x0c\\x0e\\x12\\x1e\\x14\\x12\\x11\\x11\\x12%\\x1a\\x1c\\x16\\x1e,&.-+&*)06E;03A4)*<R=AGJMNM/:U[TKZELMJ\\xff\\xdb\\x00C\\x01\\r\\x0e\\x0e\\x12\\x10\\x12#\\x14\\x14#J2*2JJJJJJJJJJJJJJJJJJJJJJJJJJJJJJJJJJJJJJJJJJJJJJJJJJ\\xff\\xc4\\x00\\x1f\\x00\\x00\\x01\\x05\\x01\\x01\\x01\\x01\\x01\\x01\\x00\\x00\\x00\\x00\\x00\\x00\\x00\\x00\\x01\\x02\\x03\\x04\\x05\\x06\\x07\\x08\\t\\n\\x0b\\xff\\xc4\\x00\\xb5\\x10\\x00\\x02\\x01\\x03\\x03\\x02\\x04\\x03\\x05\\x05\\x04\\x04\\x00\\x00\\x01}\\x01\\x02\\x03\\x00\\x04\\x11\\x05\\x12!1A\\x06\\x13Qa\\x07\"q\\x142\\x81\\x91\\xa1\\x08#B\\xb1\\xc1\\x15R\\xd1\\xf0$3br\\x82\\t\\n\\x16\\x17\\x18\\x19\\x1a%&\\'()*456789:CDEFGHIJSTUVWXYZcdefghijstuvwxyz\\x83\\x84\\x85\\x86\\x87\\x88\\x89\\x8a\\x92\\x93\\x94\\x95\\x96\\x97\\x98\\x99\\x9a\\xa2\\xa3\\xa4\\xa5\\xa6\\xa7\\xa8\\xa9\\xaa\\xb2\\xb3\\xb4\\xb5\\xb6\\xb7\\xb8\\xb9\\xba\\xc2\\xc3\\xc4\\xc5\\xc6\\xc7\\xc8\\xc9\\xca\\xd2\\xd3\\xd4\\xd5\\xd6\\xd7\\xd8\\xd9\\xda\\xe1\\xe2\\xe3\\xe4\\xe5\\xe6\\xe7\\xe8\\xe9\\xea\\xf1\\xf2\\xf3\\xf4\\xf5\\xf6\\xf7\\xf8\\xf9\\xfa\\xff\\xc4\\x00\\x1f\\x01\\x00\\x03\\x01\\x01\\x01\\x01\\x01\\x01\\x01\\x01\\x01\\x00\\x00\\x00\\x00\\x00\\x00\\x01\\x02\\x03\\x04\\x05\\x06\\x07\\x08\\t\\n\\x0b\\xff\\xc4\\x00\\xb5\\x11\\x00\\x02\\x01\\x02\\x04\\x04\\x03\\x04\\x07\\x05\\x04\\x04\\x00\\x01\\x02w\\x00\\x01\\x02\\x03\\x11\\x04\\x05!1\\x06\\x12AQ\\x07aq\\x13\"2\\x81\\x08\\x14B\\x91\\xa1\\xb1\\xc1\\t#3R\\xf0\\x15br\\xd1\\n\\x16$4\\xe1%\\xf1\\x17\\x18\\x19\\x1a&\\'()*56789:CDEFGHIJSTUVWXYZcdefghijstuvwxyz\\x82\\x83\\x84\\x85\\x86\\x87\\x88\\x89\\x8a\\x92\\x93\\x94\\x95\\x96\\x97\\x98\\x99\\x9a\\xa2\\xa3\\xa4\\xa5\\xa6\\xa7\\xa8\\xa9\\xaa\\xb2\\xb3\\xb4\\xb5\\xb6\\xb7\\xb8\\xb9\\xba\\xc2\\xc3\\xc4\\xc5\\xc6\\xc7\\xc8\\xc9\\xca\\xd2\\xd3\\xd4\\xd5\\xd6\\xd7\\xd8\\xd9\\xda\\xe2\\xe3\\xe4\\xe5\\xe6\\xe7\\xe8\\xe9\\xea\\xf2\\xf3\\xf4\\xf5\\xf6\\xf7\\xf8\\xf9\\xfa\\xff\\xc0\\x00\\x11\\x08\\x01\\xe0\\x02\\x80\\x03\\x01!\\x00\\x02\\x11\\x01\\x03\\x11\\x01\\xff\\xda\\x00\\x0c\\x03\\x01\\x00\\x02\\x11\\x03\\x11\\x00?\\x00\\xed\\xb1KA\\xc8--!\\x85:\\x80\\x0cR\\xe2\\x80\\x16\\x97\\x14\\x80)i\\x8c1K\\x8a@\\x14P\\x05;\\x9b\\xaf\\xb3\\xaboS\\x8fZ\\xe5<C-\\xa5\\xfd\\x992>$\\xa4\\xcaG/\\xe1\\x8f\\xdd\\xea\\x12\\xc6\\x0f\\x18\\xae\\xb3o\\xeek&vCc*\\xe4s\\x8a\\xd6\\xd1\\x9fu\\xb6=*S\\xd4s4i\\xd4\\x00\\xb4\\xb4\\x16\\x87\\n~*n1E8PP\\xe5\\x14\\xb5b\\x1a\\xd5\\x04\\x9di\\x0c\\xb6\\x97^D{V\\xb3n\\xae\\x0b\\xb7ZH\\xa6B\\xb2\\x9a\\xb9\\x05\\xd1\\x02\\x99(\\xb1\\xf6\\xefz\\x96\\x1dC\\x1d\\xe9\\x14Z:\\x99#\\x8a\\x8d.\\xdb~sLf\\xa47\\x88\\xfdO5g\\xadZ\\x95\\xd5\\x8ey\\xc2\\xcf\\x99\\x05\\x15\\x11\\x1dP\\xa2\\xb79\\xc2\\x8a\\x96\\x80(\\xac\\x99\\xa4B\\xa1f\\xf5\\xa97C|\\xdc\\x8a\\xaf<\\x94\\xc4\\xceK\\xc4se\\x82V]\\xbf\\rVLM\\xa9Fl\\xb1\\xebY\\xb7\\xb1\\xfd\\xc4\\xedLU>\\x03\\x1b\\\\x\\xd6\\x12X\\xf4\\xe9Rxf-\\xb6\\'\\x8f\\xbei\\xf3=\\x8e^\\x87M\\x14{EI\\x8a\\xb3!)\\xb4\\xc0JJ@\\x18\\xa6\\xd1q\\x05%0\\x12\\x92\\x80\\x0cQ@\\x84\\xa2\\x80\\x12\\x8cS\\x03\\xa5\\xa2\\x98\\x87QH\\x05\\xa5\\xa0\\x05\\xa5\\xa4\\x01KLc\\xa8\\xa2\\xe0\\x14\\xb4\\x80Z1L\\x08n`\\x13FA\\xae/V\\xf0\\xdf-\\xb6v\\xf5\\xc1\\xa9)\\x144\\x9f\\x0f\\xbd\\x9d\\xc7\\x9f\\xbbum\\x05\\xfd\\xd6+9\\x1dt\\xf62nS\\x0fWt\\xc5(\\x7f\\xd95\\t\\x9aL\\xd4\\xa34\\xc9AN\\xa94\\x1e\\x06jU\\xa0c\\xa9h(z\\xf3N\\xdbN\\xe0&\\xdfZ\\xabs\\xc5!\\x99\\xb3\\xdc\\xec\\xac[\\xfdv;c\\xf3R\\xb9V#\\xb5\\xf1-\\xac\\x8d\\x8c\\xe2\\xb5\\xd2\\xe9]w#S\\xe62\\x11\\xaeM:\\x1b\\x82{\\xd1r\\xc9/\\xb5E\\xd3\\xed\\xf7\\x91\\xb9\\xbd+\\x99o\\x1c\\xcf\\xbf\\xfdO\\x14\\xee#oI\\xf1#]\\xf5\\x1bk\\xad\\xd2\\xb5\\x12\\xed\\x82x\\xa8L\\xda\\xdaX\\xdf\\xa2\\xb4\\x89\\xcbP(\\xad\\xd1\\xce\\x14P\\xc0(\\xaev\\xcd\\xa9\\xa22\\xf8\\xaa\\xd3\\xb5I\\xa9\\x16\\xfc\\n\\x82w\\xcdQ\\x129\\xedm\\x01P{\\xd6]\\x9a|\\xfc\\xd5\\x8e;\\x1b\\x93\\'\\xfa:V.\\xadp\"~_\\x18\\xedA\\x15~\\x13\\x17\\xecwZ\\xcc\\xcb\\xfb\\xbd\\xb1{\\xd7Yc`\\xb6\\xb1\\x85\\xf4\\xad\\x11\\xc8\\xcbx\\xa4\\xa2\\xe4\\r\\xa6\\x9a\\x00JJ\\x04%%0\\x12\\x8a@%%\\x00\\x14S\\x10\\x94\\x94\\xc0J(\\xb8\\x8e\\x96\\x96\\x98\\x0b\\x8a)\\x0cZZ\\x04--!\\x8bK@\\x0bE\\x00-\\x14\\xc0Z)\\x00\\x87\\xda\\xa9\\xcbn\\xd2\\xc6T\\xf5\\xa0e\\'\\xb6uL\\x15\\xac\\xbcpk9\\x1dTL\\xdb\\xa5\\xc1\\xabvn\\xbeP\\x15\\x06\\xf2Z\\x17sI\\x9e(d!P\\xf1R\\x8a\\x93RAJ\\xb4\\x01(4\\xf5Z.Q*\\xd4\\x81x\\xa4P\\x85j\\x85\\xf7\\x0bLg=w\\xde\\xb9\\xcdJ\\xd3\\xcdl\\xe2\\xa7\\x99\\xa2\\xd1\\x8f\\xf6\\t|\\xfe\\x07\\x15\\xd3i\\x89$\\x11\\x80i\\xf3\\xb6d\\xe1b\\xfbg\\xadX\\xb0\\x88\\xbbP2k\\xbb/\\xb4\\xab\\n\\xe2\\xeft)\\xe1\\xb9\\xfb\\xbcU9r\\x8a*\\xfa\\x1az]\\xb3B\\xdc\\xf1]\\x96\\x88\\x8c\\xf3(\\xa8\\xf37ggEl\\x8f:N\\xe1En@QQ \\nC\\xd2\\xb9\\xdb:)\\x90\\x1a\\xac\\xed\\xcd\"\\xc8\\x9f\\xa5U\\x90\\x90*\\xaeg#\\x0e\\xe4\\xef\\'4\\xcbX2\\xf5e\\xa4j\\xc81\\x12\\xadb}\\x91n\\xafY\\x9ds\\x8ah\\xc6\\xb6\\xc6\\xb4\\x10\\x88\\x93\\x00T\\x95\\xa5\\xce1))\\x00\\xd3M\\xa7p\\x12\\x92\\x81\\tI@\\tIHAIN\\xe0%\\x14\\xc0J)\\x00\\x94PI\\xd2\\xd1T\\x02\\xd2\\xd4\\x8cZZ\\x00Z)\\x80\\xb4\\xb4\\x0cZ(\\x01ih\\x00\\xa5\\xa4\\x02\\xd1@\\xc8\\xe4^\\x0ek\\x96\\x9cl\\x91\\xbe\\xb52:h\\x15\\xe6\\x87\\xcd_z\\xa6\\x89$-\\xcfJ\\xc4\\xea4\\xe2m\\xf1\\xe6\\x96\\xaa\\xe6Hr\\x8a\\x94T\\x9a\\x12\\x8e\\x94\\x0e\\xb5#&P*AAE\\x88\\xc6EL\\x16\\x91b\\x88\\xf3Y\\xba\\xa4xZ:\\x8c\\xe5\\xaf\\xbeCY\\x8f.\\xe3\\xc5\\r\\x94\\xb6,\\xc5\\x02\\x9eMJ\\xc9\\x81\\xc5R\\xeef(\\x93\\xb1\\xab6\\xd7;8\\x157$\\xd4\\xb6\\xe6\\xa4\\xb8\\x829W\\x91\\xcdj.\\xa63[0\\x9b\\x81]g\\x87m\\xb6\\x8d\\xec*li\\'h\\x9b\\xb4WQ\\xc0\\x14P\\x01E&\\x01Er\\xbd\\xcd\\xa0D\\xe2\\xab74\\x8d\\x19^^*\\xbc\\xff\\x00v\\xa8\\xcc\\xcem9\\xd8n\\x15b\\xde\\xd0D2\\xc6\\xaa\\xe6\\xa2\\xc8w}*\\xbcql|\\xd5\\xc4\\xe4\\xae\\xcb\\x14\\xda\\xa3\\x9cJm\\x00%0\\xd0!1I@\\t\\x8aJb\\x12\\x92\\x80\\nJ\\x00(\\xa5q\\r\\xa5\\xaa\\x01)(\\x11\\xd2\\xd2\\xd3\\x00\\xa5\\xa41ii\\x00\\xb4S\\x01i\\xd4\\x00R\\xd00\\xa5\\xa0B\\xd1@\\xc3\\x14c\\xde\\x90\\x0c\\x91\\x0e85\\xcf_\\xc2Rc\\x9a\\x99\\x1b\\xd1\\xf8\\x8a\\xca\\xbc\\xd2I\\x08=k\\x13\\xadn\\x11\\xae\\xc1\\x81KL\\x8e\\xa3\\x85L\\xb5%\\x8f\\x14\\xfc\\xd0Q$y\\xabQ\\xaei6Ye\\x16\\xa6U\\xa9,\\x9dW\\x02\\xb1uc\\x97\\xc5\\x08\\x0c+\\x88\\x03\\xd5\\x13d\\xab\\xda\\xb4%\\x80\\x8b\\x14H\\x98\\x14\\xaeAVe4\\xb6\\xed\\x87\\x15#7\\xec\\xb9\\xab\\xeb\\x16{V\\x84\\x96\\xa2\\xb2^\\xb8\\xad[x\\xfc\\xb8\\xf1U\\x1d\\xc5/\\x84\\x96\\x8a\\xdc\\xe6\\n(\\x00\\xa2\\x80\\n+\\x9ae\\xc3q\\x1b\\xa5W\\x93\\x8a\\xcd3fg\\xccNj?3h\\xe6\\xac\\x8e\\xa5\\x88\\xa6Y\\x06\\x15h\\x92\\xd8u\\xaa\\x1fR\\x9c\\x83\\xb0\\xa6\\xed\\xad\\x11\\xcbU\\xfb\\xc2RS2\\x1ai(\\x10\\xdai\\xa61)(\\x10\\x94\\x94\\x00\\x94\\x94\\x84%%1\\x05\\x14\\x00\\x94\\x94\\x00\\x94S\\x11\\xd2\\xd2\\xd3\\x00\\xa5\\xa41ih\\x01h\\xa4\\x02\\x8aZ\\x06--\\x00--\\x00\\x14\\xb4\\x00\\nZc\\x0csUo\\xed\\x04\\xf1\\x1f\\xefR\\xdcqvg6\\xd9\\x8d\\xf0\\xdd\\xaa)\\xb2y\\x15\\x81\\xdd~\\xa3b\\'<\\xd4\\xb4\\x0b\\xa8\\xa8y\\xa9\\xeaK\\x1d\\x9a\\x91i\\x14O\\x1dZ\\x8e\\xa5\\x94Z\\x8e\\xac-#Q%\\x93j\\xe6\\xb9\\xfb\\xa97\\xb9\\xa6\\x81\\x94\\xe4\\xaa\\xf2t\\xe2\\xac\\xc8\\x84\\x8a\\x93\\xcb\\xc8\\xa6\"\\t\\xa0\\xa8\\x04\\x18j@mi\\xe3\\xe5\\xadhM2Kq\\x1ej\\xf5\\\\7&\\x7f\\x08Q[\\x98\\x05\\x14\\x00Q@\\x05\\x15\\x94\\xc0\\rV\\xb8^+\\x9c\\xe83\\x18\\xfc\\xd4\\xed\\xbeg\\x15\\xa1$\\xb6\\xe0E\\xd6\\x9b=\\xc7e\\xa6I_\\x14\\x95\\xa9\\xc6\\xde\\xa2\\x1am!\\tM5C\\x1bM\\xa4!)(\\x01))\\x88JJ\\x00J(\\x01(\\xa0BRS\\x01)(\\x03\\xa6\\xa2\\x98\\x85\\xa5\\xa41ih\\x10\\xb4\\xb4\\x0cZZ\\x06\\x14\\xa2\\x90\\x0bKL\\x05\\xa2\\x90\\x0bK@\\x05\\x18\\xcd\\x0335M4\\\\.\\xf4\\xfb\\xf5\\xcd\\xcb\\xba#\\xb5\\xd7\\x15\\x9bGM9iaw\\x80)\\xd9\\xcdI\\xa7QS\\xadX\\x15\\x06\\x83\\xeaAHd\\xcbV\\xa1<R4E\\xa54\\xe6z\\x93B\\xbd\\xe4\\xf8\\x8a\\xb1dlU\"dD\\xdc\\xd3\\nU\\x19\\x08\\xb1\\x965k\\xec\\xe7m\\x03#kz\\xa9$_51\\x1a:|G\\x15\\xa9\\x14\\r\\xba\\x90\\xda4\"\\x8bo\\xd6\\xa5\\xad\\xa9\\x9c\\xf3z\\x85\\x15\\xa9\\x01E\\x00\\x14P\\x01EaPh*\\x94\\xf2\\xe75\\x91\\xb9C\\xa9\\xaa\\xd3\\xdd\\x8by\\xc2\\xe7\\x9a\\xa2E\\x92\\xed\\xa6?\\xbb\\x154q\\xed\\x1c\\xf5\\xadQ\\x85It\\x1ei\\xb5G8\\xd3L,\\x07SLdMq\\x18\\xfe!Q\\x9b\\xa8\\xfdkH\\xd2\\x93\\x0b\\x08n\\x16\\x9b\\xe7\\x8a\\xd5a\\x98\\xec5\\xa7\\xc57\\xce\\xad\\xd6\\x19\\x05\\x88\\xfc\\xf3Jn+Oa\\x00\\xb0\\x9e}C%\\xe7\\x97\\xd4\\xd1\\xec\"!#\\xd4Q\\xba\\x9a\\xb2\\x93+\\xf45\\xc9V\\x8b[\\x12II\\\\\\xe2\\x12\\x8a\\x00JJ\\x04t\\xd4S`--!\\x8bK@\\x0bKH\\x05\\xa5\\xa6\\x01N\\xa0b\\xd2\\xd2\\x00\\xa5\\xa6\\x01KH\\x02\\x8a\\x06%C=\\xa47\\x03\\x12\\xc6\\r\\x00fO\\xe1\\xd8_\\xee9J\\xc6\\x99|\\xa7)\\xfd\\xda\\xcd\\x9d0\\x9d\\xc6\\n\\x9d+#\\xa0\\x94T\\x8ai\\x14H\\x8fVU\\xe92\\x89\\xd5\\xe82T\\x96g\\xde\\xc8I\\xaaD\\x93Z\\x10\\xc5\\xc5<\\xe1GZ@5gD\\xabpN\\x8fL\\xbb\\x12\\xb4E\\xfe\\xed7\\xec\\x04\\xf2\\xd4\\x0bB\\xcd\\xbck\\x17\\x19\\xadD\\xc6\\xde)\\xad\\xcc\\xe7\\xf0\\x8e\\xa2\\xba6G(QIH\\x02\\x8a\\xb0\\n(\\x00\\xa2\\xb0\\xa85\\xb8\\x8d\\xd2\\xb3\\xaeN3X\\xa3\\xa0\\xa6\\rr72\\xdd\\xdex\\xa0[\\xc5\\xfe\\xa5\\x06\\\\\\xd6\\x88\\xc2n\\xc7c\\x04A#\\x03\\x15&+S\\x94i\\xa6\\xd3\\x11\\x91\\xa9\\xea^I\\xda\\x84{\\x9a\\xc7:\\x91\\x93\\xee\\xee\\x90\\xd7u(\\xd9\\x1a\\xa4 \\xb9\\xb8\\xec\\xa8*O:\\xe3\\xb3%t\\x81\"\\xcbs\\xdd\\x92\\xa6Y\\xe4\\x1f~/\\xca\\x99$\\xab2\\xb9\\xe2\\x86\\xc5h\\x042\\xe4\\n\\x809\\xa4\\x03\\x8b\\xf1X:\\xb5\\xe9\\x8f<\\xd0CFlw\\xf7\\x1br\\x01?J\\xd4\\xb4\\xbe\\xb9\\n2\\x8dUm\\x05cZ\\xdbR\\x7f\\xe2\\x06\\xb4\\xe3\\xb9W\\xae\\x1a\\xd4z\\xa0\\xb17ZJ\\xe2$JaaV\\xa0\\xd8\\xce\\xa6\\x8a\\x91\\x0bKHb\\xd2\\xd0\\x02\\xd2\\xd2\\x01ih\\x18\\xb4\\xb4\\x00\\xb4\\xb4\\x08(\\xa0aE\\x00\\x14P\\x01E!\\x85s\\x9a\\xec[.r\\x07\\xde\\xa9\\x96\\xc6\\x94\\xf73\\x07Z\\xb0\\xb5\\x89\\xd8H\\r8T\\xdc\\xa4<T\\xca\\xd4\\x16;\\xcd\\xa8\\x9ej\\x00\\xab,\\xbb\\xa9\\xa1\\x80\\xaa\\x11\\x04\\xb7b>\\xf5B[\\xfd\\xc7\\xad#T0O\\x9e\\xf4\\xe5\\xba(x4\\x01\\xa5i\\xa9:\\x8ejv\\xd4\\xe45B\\xb1\\x17\\xdb\\x18\\xb6I\\xad\\x18\\xb57\\x8e\\x1e*F\\x8b6\\xba\\xd27\\x12\\xd6\\x9c3\\xc70\\xca6j\\xe3;h\\xccj\\xd1\\xfbH\\x92\\x90\\x9cTH\\xce\\x08\\x01\\xcd-\\\\&D\\xa3`\\xa2\\xb6\\xe6 (\\xaey\\xca\\xe5\\xc5\\x11\\xcax\\xac\\xcb\\xb7\\xe7\\x15(\\xd8\\xa8\\xc7\\x0b\\xc57O\\xb1X\\xe5i\\x8a\\xfc\\xcd[D\\xe6\\xaaiSj\\xcea\\xb5\\x99\\xad\\xdf}\\x86\\xd4\\xb7s\\xd2\\xaa;\\x8d#\\x88\\x92\\xf7\\xcc|\\xc9\\x99\\x1c\\xf6\\xa65\\xcd\\xd9\\x18T\\x08+\\xd5Z\\x1a\\x905\\xdd\\xc2p\\xf2\\nt\\x1a\\x81f\\xc7\\x9bWrMkIU\\xbf\\xe5\\xa5kB\\xc7\\x1dsN\\xe0\\x0f\\xb4\\x9c2\\xed\\xf7\\xa6\\x0c\\xafS\\x91\\xebLD\\xc3\\x0c\\xbc\\x9a\\xa7*\\x14jb\\x199>I=\\xeb.\\xdbI\\xfbT\\x9em\\xcf>\\xd57\\x0b\\x1bv\\xf61F\\xb8\\x08*\\xc7\\x90\\x9f\\xdd\\x14\\x80<\\xb4\\x1d\\x85\\'\\xca(`!\\x9b\\x1d)\\xbekV<\\x88,&\\xeacKZl\\x80\\xed\\xe8\\xaf,\\xc8ZZC\\x16\\x96\\x80\\x16\\x96\\x90\\x0bK@\\x0bK@\\xc2\\x8a\\x00(\\xa0\\x02\\x8a\\x00(\\xa4\\x01E\\x03\\n\\xca\\xd7\\xa3\\xcc\\n\\xfe\\x86\\x87\\xb1P\\xf8\\x8e{\\xa1\\xa9A\\xaevv\\xa2e4\\xe1RX\\xeei\\xd9\\xa0c$j\\xa94\\xd8\\x1dh\\x19_\\xedAj\\x9d\\xd6\\xa3\\x81\\xc5\\x17--L\\x99\\xaf\\x99\\xcfZ\\xac\\xd7\\xd8\\xefK\\x98\\xda\\xc8\\xb5\\r\\xd0t\\xce\\xea\\xb0\\x92|\\x995I\\x90\\xd1=\\xbd\\xd0\\xe9S\\xc5t\\x1c\\x95\\xcd;\\x89\\xa1\\x92\\xdc\\xf9mR\\xa5\\xeeb\\xebN\\xe3\\xb6\\x856\\xbf\\xc3u\\xab\\xb6:\\xdb\\xc4\\xdc5+\\x95\\xd0\\xe8\\xad|A\\xb9~lT\\xc7TV\\xefH\\xc5\\x92C\\x7f\\x9a\\xd1\\x86]\\xe2\\xa4\\x82j*\\xf9\\xf49\\xec\\x14\\x87\\xa5C4\\x89RV\\xefY\\x936Z\\xa9\\x14C\\x1e^\\xe0\\n\\xd58Q\\xcf\\x15\\xb4NJ\\xbb\\x90\\x9b\\xc83\\xfe\\xb5?:Q4m\\xd1\\xd4\\xd5\\x98\\x88eO\\xef\\n\\xe6\\xfcR>\\xd2\\x125<w\\xad)\\xdf\\x9d\\x15\\x1d\\xcc\\x19|\\x9b(\\xeb.mP7\\x02\\xbd4hQ\\xba\\x94\\xb8\\xe0\\xd6v\\xf2\\xbd\\rL\\xa4\\xd1%\\xcb]M\\xe3`7W[\\xa5j\\x02E^i\\xc6C\\xb1\\xd0F\\x04\\xc9\\xebPK\\x0e\\xce\\x9d+Q\\x10\\x1e:t\\xa6\\xbc\\xbf-\\x02*G\\xe6O/<-h\\xaa`T\\x8c\\x93xJ\\x8d\\xa7\\xf4\\xa1\\xb0\\x1b\\xbc\\xd3\\x1eLT\\x08\\x8f\\xcc$\\xd4\\xab\\xd2\\x9a\\x02\\x19\\x1c\\xd37\\xd0#\\xd0h\\xaf,\\xc8ZZ\\x91\\x8bK@\\x0e\\xa2\\x80\\x16\\x96\\x80\\n(\\x18Q@\\x05\\x14\\x00QH\\x02\\x8a`\\x14R\\x18UmF?2\\xceA\\xedHks\\x93=i\\xe2\\xb0;P\\xf5j\\x94\\x1a\\x92\\xc7\\xf6\\xa6\\xe7\\x14\\x86U\\xb8\\x9fmd^\\xde\\x04\\xefN\\xe32d\\xd5\\x06~\\xf5T\\x96\\xf7\\xcc\\xe1jT\\xaetE\\r\\x8a\\xce\\xf6\\xe3\\xee\\x0c/\\xa9\\xab\\xb1xjY9\\x96J\\xd1=\\n\\xba%\\xff\\x00\\x84zH\\xc7\\xee\\xdc\\xd4\\x12\\xda\\xdf\\xc4\\x9b1\\xba\\x96\\xa5+=\\xc8\\xa1\\xb4\\xd4\\x17\\'a\\xa7\\xda[j+1m\\x87\\x9a\\x94[\\xe5-Ki\\xa8\\xca\\xc3\\xf7x\\x159\\xd3/\\xe4\\x8c*\\x8cUjN\\x82\\x7f\\xc29v\\xeb\\xc4\\x9f5T\\x97O\\xd4-\\x9bi\\x8f4\\xecG2\\x18/\\'\\xb7?\\xbc\\x04U\\x84\\xd6\\xbf\\xda\\xa9\\xb9\\x0e75\\xac\\xb5L\\xf7\\xae\\x93N\\xbc\\xce9\\xa5{\\x99\\x1b\\xb1\\xbe\\xf5\\xa7\\xd23h*\\t\\xa5\\xc5\\x00R\\x9a_\\x94\\xd6k\\xb5X\\x8e{[\\xf1Tz\\x0f;<\\xc9[\\xa0\\xae\\x1fU\\xf1\\xc6\\xab\\xa8\\x13\\xfb\\xef-=\\x16\\xba\\xa1\\xa1\\xce\\xe3\\xa9\\x8c5{\\xcd\\xd9\\xf3\\x9b\\xf3\\xad\\xbd\\x0f\\\\\\xb9\\x92m\\x8f3c\\xeb]4\\xe6\\xdb\\xb0\\xacvPNH\\xff\\x00Y\\x9a\\x8a\\xea\\xec\\xa8\\xe2\\xbam`3.\\xc9\\x94d\\xd6\\x1c\\x84$\\x95\\xa5\\xf4$k\\\\\\x07^*\\xa3\\x9c\\xf1P\\xd8u\"\\xce+gH\\xbce\\x90\\n\\x95.\\x853\\xb9\\xd3\\xae\\xb2+K\\xef\\x8a\\xe8D\\x14.a*IZ\\xab\\x1f\\xa7z\\x00\\x9dp\\x94\\xd7\\xb8\\xf4\\xa4\\xc0`b\\xd4g\\x15#\\x06\\x93\\x8a\\xae\\xccI\\xa4\"x\\xa9e|S\\x02\\xb1\\x96\\x98\\xcf@\\x8fI\\xa5\\xaf-\\x98\\x85:\\x90\\xc5\\xa5\\xa4\\x02\\xd2\\xd0\\x01E\\x00\\x14P\\x01E\\x00\\x14P0\\xa2\\x90\\x05\\x14\\xc6\\x14P\\x01A\\xe4P3\\x90\\xbeC\\x05\\xd3\\xa7\\xbdF\\xa6\\xb0gdv\\x1e\\x1a\\xa4\\x15\\x06\\x83\\xb7Tl\\xdcT\\x8c\\xa5<n\\xf5\\x95u\\xa6\\xbc\\xdcPR+\\xff\\x00\\xc2=\\x18\\xf5\\xabv\\xfal0tATiv\\xcd\\x08\\xd4(\\xe2\\xadDx\\xaa\\xb8\\xcb)\\xb4\\xa5\\x1eLt\\xca%D\\x8f\\x9e\\x05Imo\\x1b7J@\\x8dd\\xb1\\x83\\x1d*\\xc2\\xc4\\x880\\xaa*\\xd5\\x8c*Nw\\xb2\\x13\\xc9\\x8c\\x1c\\xed\\x15\\x04\\xf6\\x11M\\xce9\\xa9-7mL\\x9b\\xdd\\x01$\\xfe\\x00k\\x9f\\x9f\\xc2q3\\xfd\\xdcR\\xb8^\\xdb\\x15\\xd3GkY8\\xe9[\\x16a\\xa3\\xac\\xf6!\\x9d\\x05\\xa4\\xa7oZ'"
      ]
     },
     "execution_count": 52,
     "metadata": {},
     "output_type": "execute_result"
    }
   ],
   "source": [
    "arduino.read_all()"
   ]
  },
  {
   "cell_type": "code",
   "execution_count": null,
   "id": "df26cf24",
   "metadata": {},
   "outputs": [],
   "source": []
  }
 ],
 "metadata": {
  "kernelspec": {
   "display_name": "Python 3 (ipykernel)",
   "language": "python",
   "name": "python3"
  },
  "language_info": {
   "codemirror_mode": {
    "name": "ipython",
    "version": 3
   },
   "file_extension": ".py",
   "mimetype": "text/x-python",
   "name": "python",
   "nbconvert_exporter": "python",
   "pygments_lexer": "ipython3",
   "version": "3.10.4"
  }
 },
 "nbformat": 4,
 "nbformat_minor": 5
}
